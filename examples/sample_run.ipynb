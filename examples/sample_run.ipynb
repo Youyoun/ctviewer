{
 "cells": [
  {
   "cell_type": "code",
   "execution_count": 1,
   "metadata": {},
   "outputs": [],
   "source": [
    "import os\n",
    "import pydicom\n",
    "import numpy as np\n",
    "import matplotlib.pyplot as plt"
   ]
  },
  {
   "cell_type": "code",
   "execution_count": 2,
   "metadata": {},
   "outputs": [],
   "source": [
    "from ctviewer import CTViewer"
   ]
  },
  {
   "cell_type": "code",
   "execution_count": 3,
   "metadata": {},
   "outputs": [],
   "source": [
    "def transform_to_hu(image):\n",
    "    \"\"\"\n",
    "    Convert the pixel intensities to Hounsfield Units (HU) using RescaleSlope and RescaleIntercept\n",
    "    \"\"\"\n",
    "    converted_image = image.pixel_array\n",
    "    converted_image[converted_image <= -1000] = 0\n",
    "    intercept = image.RescaleIntercept\n",
    "    converted_image = image.RescaleSlope * converted_image.astype(np.float64)\n",
    "    converted_image += np.int16(intercept)\n",
    "    return converted_image"
   ]
  },
  {
   "cell_type": "code",
   "execution_count": 4,
   "metadata": {},
   "outputs": [],
   "source": [
    "DATA_PATH = \"./sample_data/\"\n",
    "dicom_filenames = os.listdir(DATA_PATH)\n",
    "dicom_filepaths = [os.path.join(DATA_PATH, dicom_filename) for dicom_filename in dicom_filenames]"
   ]
  },
  {
   "cell_type": "code",
   "execution_count": 5,
   "metadata": {},
   "outputs": [],
   "source": [
    "volumetric_image = np.zeros((len(dicom_filepaths), 512, 512))\n",
    "instance_numbers = np.array([0 for i in range(len(dicom_filepaths))])\n",
    "\n",
    "for i, dicom_filepath in enumerate(dicom_filepaths):\n",
    "    dicom_file = pydicom.read_file(dicom_filepath)\n",
    "    instance_number = int(dicom_file.InstanceNumber)\n",
    "    img = transform_to_hu(dicom_file)\n",
    "    volumetric_image[i, ] = img\n",
    "    instance_numbers[i] = instance_number\n",
    "    \n",
    "indices = instance_numbers.argsort()\n",
    "volumetric_image = volumetric_image[indices]"
   ]
  },
  {
   "cell_type": "code",
   "execution_count": 6,
   "metadata": {
    "scrolled": false
   },
   "outputs": [
    {
     "data": {
      "application/vnd.jupyter.widget-view+json": {
       "model_id": "f4ff8bff5952420e88525ba39fc8e2df",
       "version_major": 2,
       "version_minor": 0
      },
      "text/plain": [
       "interactive(children=(RadioButtons(description='Slice plane selection:', index=2, options=('y-z', 'z-x', 'x-y'…"
      ]
     },
     "metadata": {},
     "output_type": "display_data"
    }
   ],
   "source": [
    "%matplotlib inline\n",
    "CTViewer(volumetric_image)\n",
    "plt.show()"
   ]
  },
  {
   "cell_type": "code",
   "execution_count": null,
   "metadata": {},
   "outputs": [],
   "source": []
  }
 ],
 "metadata": {
  "kernelspec": {
   "display_name": "Python 3",
   "language": "python",
   "name": "python3"
  },
  "language_info": {
   "codemirror_mode": {
    "name": "ipython",
    "version": 3
   },
   "file_extension": ".py",
   "mimetype": "text/x-python",
   "name": "python",
   "nbconvert_exporter": "python",
   "pygments_lexer": "ipython3",
   "version": "3.7.4"
  }
 },
 "nbformat": 4,
 "nbformat_minor": 2
}
