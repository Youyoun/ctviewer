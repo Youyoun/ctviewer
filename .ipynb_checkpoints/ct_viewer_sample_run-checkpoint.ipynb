{
 "cells": [
  {
   "cell_type": "code",
   "execution_count": 1,
   "metadata": {},
   "outputs": [],
   "source": [
    "import os\n",
    "import pydicom\n",
    "import numpy as np\n",
    "import matplotlib.pyplot as plt"
   ]
  },
  {
   "cell_type": "code",
   "execution_count": 2,
   "metadata": {},
   "outputs": [],
   "source": [
    "import sys\n",
    "sys.path.append(\".\")\n",
    "from ct_viewer import CTViewer"
   ]
  },
  {
   "cell_type": "code",
   "execution_count": 3,
   "metadata": {},
   "outputs": [],
   "source": [
    "def set_outside_scanner_to_air(raw_pixelarray):\n",
    "    raw_pixelarray[raw_pixelarray <= -1000] = 0\n",
    "    return raw_pixelarray\n",
    "\n",
    "def transform_to_hu(image):\n",
    "    converted_image = set_outside_scanner_to_air(image.pixel_array)\n",
    "    intercept = image.RescaleIntercept\n",
    "    converted_image = image.RescaleSlope * converted_image.astype(np.float64)\n",
    "    converted_image += np.int16(intercept)\n",
    "    return converted_image\n",
    "\n",
    "def window(img, window_length, window_width):\n",
    "    upper, lower = window_length + window_width // 2, window_length - window_width // 2\n",
    "    windowed_img = np.clip(img, lower, upper)\n",
    "    windowed_img = windowed_img - np.min(X)\n",
    "    windowed_img = windowed_img / np.max(windowed_img)\n",
    "    return windowed_img"
   ]
  },
  {
   "cell_type": "code",
   "execution_count": 4,
   "metadata": {},
   "outputs": [],
   "source": [
    "DATA_PATH = \"./75d23269adbd/\"\n",
    "all_SOP = os.listdir(DATA_PATH)\n",
    "all_SOP = [os.path.join(DATA_PATH, SOP) for SOP in all_SOP]"
   ]
  },
  {
   "cell_type": "code",
   "execution_count": 5,
   "metadata": {},
   "outputs": [],
   "source": [
    "volumetric_image = np.zeros((len(all_SOP), 512, 512))\n",
    "instance_numbers = np.array([0 for i in range(len(all_SOP))])\n",
    "\n",
    "for i, SOP in enumerate(all_SOP):\n",
    "    dicom_file = pydicom.read_file(SOP)\n",
    "    instance_number = int(dicom_file.InstanceNumber)\n",
    "    img = transform_to_hu(dicom_file)\n",
    "    volumetric_image[i, ] = img\n",
    "    instance_numbers[i] = instance_number\n",
    "    \n",
    "indices = instance_numbers.argsort()\n",
    "volumetric_image = volumetric_image[indices]"
   ]
  },
  {
   "cell_type": "code",
   "execution_count": 6,
   "metadata": {
    "scrolled": false
   },
   "outputs": [
    {
     "data": {
      "application/vnd.jupyter.widget-view+json": {
       "model_id": "6d92d131af6e4bd19d8d09d7126ff02b",
       "version_major": 2,
       "version_minor": 0
      },
      "text/plain": [
       "interactive(children=(RadioButtons(description='Slice plane selection:', index=2, options=('y-z', 'z-x', 'x-y'…"
      ]
     },
     "metadata": {},
     "output_type": "display_data"
    }
   ],
   "source": [
    "%matplotlib inline\n",
    "CTViewer(volumetric_image)\n",
    "plt.show()"
   ]
  },
  {
   "cell_type": "code",
   "execution_count": null,
   "metadata": {},
   "outputs": [],
   "source": []
  }
 ],
 "metadata": {
  "kernelspec": {
   "display_name": "Python 3",
   "language": "python",
   "name": "python3"
  },
  "language_info": {
   "codemirror_mode": {
    "name": "ipython",
    "version": 3
   },
   "file_extension": ".py",
   "mimetype": "text/x-python",
   "name": "python",
   "nbconvert_exporter": "python",
   "pygments_lexer": "ipython3",
   "version": "3.7.4"
  }
 },
 "nbformat": 4,
 "nbformat_minor": 2
}
